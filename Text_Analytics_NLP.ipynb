{
 "cells": [
  {
   "cell_type": "markdown",
   "metadata": {
    "nbgrader": {
     "grade": false,
     "grade_id": "cell-a9f9833e45c6e576",
     "locked": true,
     "schema_version": 3,
     "solution": false,
     "task": false
    }
   },
   "source": [
    "## <Center> Text Analytics"
   ]
  },
  {
   "cell_type": "markdown",
   "metadata": {
    "nbgrader": {
     "grade": false,
     "grade_id": "cell-5d2bceb7917306e5",
     "locked": true,
     "schema_version": 3,
     "solution": false,
     "task": false
    }
   },
   "source": [
    "### Description\n",
    "    A dataset of Shark Tank episodes is made available. It contains 495 entrepreneurs making their pitch to the VC sharks. \n",
    "    Use “Description” column as an independent variable to identify whether the ‘deal’ happened or not.\n",
    "      "
   ]
  },
  {
   "cell_type": "markdown",
   "metadata": {
    "nbgrader": {
     "grade": false,
     "grade_id": "cell-077e7ccbbca0f742",
     "locked": true,
     "schema_version": 3,
     "solution": false,
     "task": false
    }
   },
   "source": [
    "**-->Importing the required libraries & loading the dataset**"
   ]
  },
  {
   "cell_type": "code",
   "execution_count": 136,
   "metadata": {
    "nbgrader": {
     "grade": true,
     "grade_id": "load_data",
     "locked": false,
     "points": 5,
     "schema_version": 3,
     "solution": true,
     "task": false
    }
   },
   "outputs": [],
   "source": [
    "\"\"\"Importing all the required libraries\"\"\"\n",
    "##Loading libraries\n",
    "import pandas as pd\n",
    "import numpy as np\n",
    "import matplotlib.pyplot as plt\n",
    "import seaborn as sns\n",
    "import nltk\n",
    "\n",
    "data = pd.read_csv('Shark_Tank_Companies.csv')"
   ]
  },
  {
   "cell_type": "code",
   "execution_count": 137,
   "metadata": {},
   "outputs": [
    {
     "name": "stdout",
     "output_type": "stream",
     "text": [
      "<class 'pandas.core.frame.DataFrame'>\n",
      "RangeIndex: 495 entries, 0 to 494\n",
      "Data columns (total 18 columns):\n",
      " #   Column       Non-Null Count  Dtype  \n",
      "---  ------       --------------  -----  \n",
      " 0   deal         495 non-null    bool   \n",
      " 1   description  495 non-null    object \n",
      " 2   Unnamed: 2   0 non-null      float64\n",
      " 3   Unnamed: 3   0 non-null      float64\n",
      " 4   Unnamed: 4   0 non-null      float64\n",
      " 5   Unnamed: 5   0 non-null      float64\n",
      " 6   Unnamed: 6   0 non-null      float64\n",
      " 7   Unnamed: 7   0 non-null      float64\n",
      " 8   Unnamed: 8   0 non-null      float64\n",
      " 9   Unnamed: 9   0 non-null      float64\n",
      " 10  Unnamed: 10  0 non-null      float64\n",
      " 11  Unnamed: 11  0 non-null      float64\n",
      " 12  Unnamed: 12  0 non-null      float64\n",
      " 13  Unnamed: 13  0 non-null      float64\n",
      " 14  Unnamed: 14  0 non-null      float64\n",
      " 15  Unnamed: 15  0 non-null      float64\n",
      " 16  Unnamed: 16  0 non-null      float64\n",
      " 17  Unnamed: 17  0 non-null      float64\n",
      "dtypes: bool(1), float64(16), object(1)\n",
      "memory usage: 66.4+ KB\n"
     ]
    }
   ],
   "source": [
    "data.info()"
   ]
  },
  {
   "cell_type": "markdown",
   "metadata": {
    "nbgrader": {
     "grade": false,
     "grade_id": "cell-f488959376be8fb8",
     "locked": true,
     "schema_version": 3,
     "solution": false,
     "task": false
    }
   },
   "source": [
    "**-->Exploratory data analysis**"
   ]
  },
  {
   "cell_type": "code",
   "execution_count": 138,
   "metadata": {
    "nbgrader": {
     "grade": true,
     "grade_id": "EDA",
     "locked": false,
     "points": 15,
     "schema_version": 3,
     "solution": true,
     "task": false
    }
   },
   "outputs": [
    {
     "data": {
      "text/plain": [
       "deal             0\n",
       "description      0\n",
       "Unnamed: 2     495\n",
       "Unnamed: 3     495\n",
       "Unnamed: 4     495\n",
       "Unnamed: 5     495\n",
       "Unnamed: 6     495\n",
       "Unnamed: 7     495\n",
       "Unnamed: 8     495\n",
       "Unnamed: 9     495\n",
       "Unnamed: 10    495\n",
       "Unnamed: 11    495\n",
       "Unnamed: 12    495\n",
       "Unnamed: 13    495\n",
       "Unnamed: 14    495\n",
       "Unnamed: 15    495\n",
       "Unnamed: 16    495\n",
       "Unnamed: 17    495\n",
       "dtype: int64"
      ]
     },
     "execution_count": 138,
     "metadata": {},
     "output_type": "execute_result"
    }
   ],
   "source": [
    "#- Null value removal\n",
    "data.isnull().sum()"
   ]
  },
  {
   "cell_type": "code",
   "execution_count": 139,
   "metadata": {},
   "outputs": [
    {
     "data": {
      "text/html": [
       "<div>\n",
       "<style scoped>\n",
       "    .dataframe tbody tr th:only-of-type {\n",
       "        vertical-align: middle;\n",
       "    }\n",
       "\n",
       "    .dataframe tbody tr th {\n",
       "        vertical-align: top;\n",
       "    }\n",
       "\n",
       "    .dataframe thead th {\n",
       "        text-align: right;\n",
       "    }\n",
       "</style>\n",
       "<table border=\"1\" class=\"dataframe\">\n",
       "  <thead>\n",
       "    <tr style=\"text-align: right;\">\n",
       "      <th></th>\n",
       "      <th>deal</th>\n",
       "      <th>description</th>\n",
       "    </tr>\n",
       "  </thead>\n",
       "  <tbody>\n",
       "    <tr>\n",
       "      <th>0</th>\n",
       "      <td>False</td>\n",
       "      <td>Bluetooth device implant for your ear.</td>\n",
       "    </tr>\n",
       "    <tr>\n",
       "      <th>1</th>\n",
       "      <td>True</td>\n",
       "      <td>Retail and wholesale pie factory with two reta...</td>\n",
       "    </tr>\n",
       "    <tr>\n",
       "      <th>2</th>\n",
       "      <td>True</td>\n",
       "      <td>Ava the Elephant is a godsend for frazzled par...</td>\n",
       "    </tr>\n",
       "    <tr>\n",
       "      <th>3</th>\n",
       "      <td>False</td>\n",
       "      <td>Organizing, packing, and moving services deliv...</td>\n",
       "    </tr>\n",
       "    <tr>\n",
       "      <th>4</th>\n",
       "      <td>False</td>\n",
       "      <td>Interactive media centers for healthcare waiti...</td>\n",
       "    </tr>\n",
       "  </tbody>\n",
       "</table>\n",
       "</div>"
      ],
      "text/plain": [
       "    deal                                        description\n",
       "0  False             Bluetooth device implant for your ear.\n",
       "1   True  Retail and wholesale pie factory with two reta...\n",
       "2   True  Ava the Elephant is a godsend for frazzled par...\n",
       "3  False  Organizing, packing, and moving services deliv...\n",
       "4  False  Interactive media centers for healthcare waiti..."
      ]
     },
     "execution_count": 139,
     "metadata": {},
     "output_type": "execute_result"
    }
   ],
   "source": [
    "data = data.dropna(axis=1)\n",
    "data.head()"
   ]
  },
  {
   "cell_type": "code",
   "execution_count": 140,
   "metadata": {},
   "outputs": [
    {
     "data": {
      "text/html": [
       "<div>\n",
       "<style scoped>\n",
       "    .dataframe tbody tr th:only-of-type {\n",
       "        vertical-align: middle;\n",
       "    }\n",
       "\n",
       "    .dataframe tbody tr th {\n",
       "        vertical-align: top;\n",
       "    }\n",
       "\n",
       "    .dataframe thead th {\n",
       "        text-align: right;\n",
       "    }\n",
       "</style>\n",
       "<table border=\"1\" class=\"dataframe\">\n",
       "  <thead>\n",
       "    <tr style=\"text-align: right;\">\n",
       "      <th></th>\n",
       "      <th>description</th>\n",
       "      <th>word_count</th>\n",
       "    </tr>\n",
       "  </thead>\n",
       "  <tbody>\n",
       "    <tr>\n",
       "      <th>0</th>\n",
       "      <td>Bluetooth device implant for your ear.</td>\n",
       "      <td>6</td>\n",
       "    </tr>\n",
       "    <tr>\n",
       "      <th>1</th>\n",
       "      <td>Retail and wholesale pie factory with two reta...</td>\n",
       "      <td>12</td>\n",
       "    </tr>\n",
       "    <tr>\n",
       "      <th>2</th>\n",
       "      <td>Ava the Elephant is a godsend for frazzled par...</td>\n",
       "      <td>37</td>\n",
       "    </tr>\n",
       "    <tr>\n",
       "      <th>3</th>\n",
       "      <td>Organizing, packing, and moving services deliv...</td>\n",
       "      <td>9</td>\n",
       "    </tr>\n",
       "    <tr>\n",
       "      <th>4</th>\n",
       "      <td>Interactive media centers for healthcare waiti...</td>\n",
       "      <td>14</td>\n",
       "    </tr>\n",
       "  </tbody>\n",
       "</table>\n",
       "</div>"
      ],
      "text/plain": [
       "                                         description  word_count\n",
       "0             Bluetooth device implant for your ear.           6\n",
       "1  Retail and wholesale pie factory with two reta...          12\n",
       "2  Ava the Elephant is a godsend for frazzled par...          37\n",
       "3  Organizing, packing, and moving services deliv...           9\n",
       "4  Interactive media centers for healthcare waiti...          14"
      ]
     },
     "execution_count": 140,
     "metadata": {},
     "output_type": "execute_result"
    }
   ],
   "source": [
    "#- Number of words\n",
    "data['word_count'] = data['description'].apply(lambda x: len(str(x).split(\" \")))\n",
    "data[['description','word_count']].head()"
   ]
  },
  {
   "cell_type": "code",
   "execution_count": 141,
   "metadata": {},
   "outputs": [
    {
     "data": {
      "text/html": [
       "<div>\n",
       "<style scoped>\n",
       "    .dataframe tbody tr th:only-of-type {\n",
       "        vertical-align: middle;\n",
       "    }\n",
       "\n",
       "    .dataframe tbody tr th {\n",
       "        vertical-align: top;\n",
       "    }\n",
       "\n",
       "    .dataframe thead th {\n",
       "        text-align: right;\n",
       "    }\n",
       "</style>\n",
       "<table border=\"1\" class=\"dataframe\">\n",
       "  <thead>\n",
       "    <tr style=\"text-align: right;\">\n",
       "      <th></th>\n",
       "      <th>description</th>\n",
       "      <th>char_count</th>\n",
       "    </tr>\n",
       "  </thead>\n",
       "  <tbody>\n",
       "    <tr>\n",
       "      <th>0</th>\n",
       "      <td>Bluetooth device implant for your ear.</td>\n",
       "      <td>38</td>\n",
       "    </tr>\n",
       "    <tr>\n",
       "      <th>1</th>\n",
       "      <td>Retail and wholesale pie factory with two reta...</td>\n",
       "      <td>73</td>\n",
       "    </tr>\n",
       "    <tr>\n",
       "      <th>2</th>\n",
       "      <td>Ava the Elephant is a godsend for frazzled par...</td>\n",
       "      <td>244</td>\n",
       "    </tr>\n",
       "    <tr>\n",
       "      <th>3</th>\n",
       "      <td>Organizing, packing, and moving services deliv...</td>\n",
       "      <td>68</td>\n",
       "    </tr>\n",
       "    <tr>\n",
       "      <th>4</th>\n",
       "      <td>Interactive media centers for healthcare waiti...</td>\n",
       "      <td>112</td>\n",
       "    </tr>\n",
       "  </tbody>\n",
       "</table>\n",
       "</div>"
      ],
      "text/plain": [
       "                                         description  char_count\n",
       "0             Bluetooth device implant for your ear.          38\n",
       "1  Retail and wholesale pie factory with two reta...          73\n",
       "2  Ava the Elephant is a godsend for frazzled par...         244\n",
       "3  Organizing, packing, and moving services deliv...          68\n",
       "4  Interactive media centers for healthcare waiti...         112"
      ]
     },
     "execution_count": 141,
     "metadata": {},
     "output_type": "execute_result"
    }
   ],
   "source": [
    "# - Number of characters\n",
    "data['char_count'] = data['description'].str.len() ## this also includes spaces\n",
    "data[['description','char_count']].head()"
   ]
  },
  {
   "cell_type": "code",
   "execution_count": 142,
   "metadata": {},
   "outputs": [
    {
     "data": {
      "text/html": [
       "<div>\n",
       "<style scoped>\n",
       "    .dataframe tbody tr th:only-of-type {\n",
       "        vertical-align: middle;\n",
       "    }\n",
       "\n",
       "    .dataframe tbody tr th {\n",
       "        vertical-align: top;\n",
       "    }\n",
       "\n",
       "    .dataframe thead th {\n",
       "        text-align: right;\n",
       "    }\n",
       "</style>\n",
       "<table border=\"1\" class=\"dataframe\">\n",
       "  <thead>\n",
       "    <tr style=\"text-align: right;\">\n",
       "      <th></th>\n",
       "      <th>description</th>\n",
       "      <th>avg_word</th>\n",
       "    </tr>\n",
       "  </thead>\n",
       "  <tbody>\n",
       "    <tr>\n",
       "      <th>0</th>\n",
       "      <td>Bluetooth device implant for your ear.</td>\n",
       "      <td>5.500000</td>\n",
       "    </tr>\n",
       "    <tr>\n",
       "      <th>1</th>\n",
       "      <td>Retail and wholesale pie factory with two reta...</td>\n",
       "      <td>5.166667</td>\n",
       "    </tr>\n",
       "    <tr>\n",
       "      <th>2</th>\n",
       "      <td>Ava the Elephant is a godsend for frazzled par...</td>\n",
       "      <td>5.621622</td>\n",
       "    </tr>\n",
       "    <tr>\n",
       "      <th>3</th>\n",
       "      <td>Organizing, packing, and moving services deliv...</td>\n",
       "      <td>6.666667</td>\n",
       "    </tr>\n",
       "    <tr>\n",
       "      <th>4</th>\n",
       "      <td>Interactive media centers for healthcare waiti...</td>\n",
       "      <td>7.071429</td>\n",
       "    </tr>\n",
       "  </tbody>\n",
       "</table>\n",
       "</div>"
      ],
      "text/plain": [
       "                                         description  avg_word\n",
       "0             Bluetooth device implant for your ear.  5.500000\n",
       "1  Retail and wholesale pie factory with two reta...  5.166667\n",
       "2  Ava the Elephant is a godsend for frazzled par...  5.621622\n",
       "3  Organizing, packing, and moving services deliv...  6.666667\n",
       "4  Interactive media centers for healthcare waiti...  7.071429"
      ]
     },
     "execution_count": 142,
     "metadata": {},
     "output_type": "execute_result"
    }
   ],
   "source": [
    "# - Average word length\n",
    "def avg_word(sentence):\n",
    "  words = sentence.split()\n",
    "  return (sum(len(word) for word in words)/len(words))\n",
    "\n",
    "data['avg_word'] = data['description'].apply(lambda x: avg_word(x))\n",
    "data[['description','avg_word']].head()"
   ]
  },
  {
   "cell_type": "code",
   "execution_count": 143,
   "metadata": {},
   "outputs": [
    {
     "data": {
      "text/html": [
       "<div>\n",
       "<style scoped>\n",
       "    .dataframe tbody tr th:only-of-type {\n",
       "        vertical-align: middle;\n",
       "    }\n",
       "\n",
       "    .dataframe tbody tr th {\n",
       "        vertical-align: top;\n",
       "    }\n",
       "\n",
       "    .dataframe thead th {\n",
       "        text-align: right;\n",
       "    }\n",
       "</style>\n",
       "<table border=\"1\" class=\"dataframe\">\n",
       "  <thead>\n",
       "    <tr style=\"text-align: right;\">\n",
       "      <th></th>\n",
       "      <th>description</th>\n",
       "      <th>stopwords</th>\n",
       "    </tr>\n",
       "  </thead>\n",
       "  <tbody>\n",
       "    <tr>\n",
       "      <th>0</th>\n",
       "      <td>Bluetooth device implant for your ear.</td>\n",
       "      <td>2</td>\n",
       "    </tr>\n",
       "    <tr>\n",
       "      <th>1</th>\n",
       "      <td>Retail and wholesale pie factory with two reta...</td>\n",
       "      <td>3</td>\n",
       "    </tr>\n",
       "    <tr>\n",
       "      <th>2</th>\n",
       "      <td>Ava the Elephant is a godsend for frazzled par...</td>\n",
       "      <td>13</td>\n",
       "    </tr>\n",
       "    <tr>\n",
       "      <th>3</th>\n",
       "      <td>Organizing, packing, and moving services deliv...</td>\n",
       "      <td>2</td>\n",
       "    </tr>\n",
       "    <tr>\n",
       "      <th>4</th>\n",
       "      <td>Interactive media centers for healthcare waiti...</td>\n",
       "      <td>2</td>\n",
       "    </tr>\n",
       "  </tbody>\n",
       "</table>\n",
       "</div>"
      ],
      "text/plain": [
       "                                         description  stopwords\n",
       "0             Bluetooth device implant for your ear.          2\n",
       "1  Retail and wholesale pie factory with two reta...          3\n",
       "2  Ava the Elephant is a godsend for frazzled par...         13\n",
       "3  Organizing, packing, and moving services deliv...          2\n",
       "4  Interactive media centers for healthcare waiti...          2"
      ]
     },
     "execution_count": 143,
     "metadata": {},
     "output_type": "execute_result"
    }
   ],
   "source": [
    "#Number of stopwords\n",
    "from nltk.corpus import stopwords\n",
    "stop = stopwords.words('english')\n",
    "\n",
    "data['stopwords'] = data['description'].apply(lambda x: len([x for x in x.split() if x in stop]))\n",
    "data[['description','stopwords']].head()"
   ]
  },
  {
   "cell_type": "code",
   "execution_count": 144,
   "metadata": {},
   "outputs": [
    {
     "data": {
      "text/html": [
       "<div>\n",
       "<style scoped>\n",
       "    .dataframe tbody tr th:only-of-type {\n",
       "        vertical-align: middle;\n",
       "    }\n",
       "\n",
       "    .dataframe tbody tr th {\n",
       "        vertical-align: top;\n",
       "    }\n",
       "\n",
       "    .dataframe thead th {\n",
       "        text-align: right;\n",
       "    }\n",
       "</style>\n",
       "<table border=\"1\" class=\"dataframe\">\n",
       "  <thead>\n",
       "    <tr style=\"text-align: right;\">\n",
       "      <th></th>\n",
       "      <th>description</th>\n",
       "      <th>hastags</th>\n",
       "      <th>atsign</th>\n",
       "    </tr>\n",
       "  </thead>\n",
       "  <tbody>\n",
       "    <tr>\n",
       "      <th>0</th>\n",
       "      <td>Bluetooth device implant for your ear.</td>\n",
       "      <td>0</td>\n",
       "      <td>0</td>\n",
       "    </tr>\n",
       "    <tr>\n",
       "      <th>1</th>\n",
       "      <td>Retail and wholesale pie factory with two reta...</td>\n",
       "      <td>0</td>\n",
       "      <td>0</td>\n",
       "    </tr>\n",
       "    <tr>\n",
       "      <th>2</th>\n",
       "      <td>Ava the Elephant is a godsend for frazzled par...</td>\n",
       "      <td>0</td>\n",
       "      <td>0</td>\n",
       "    </tr>\n",
       "    <tr>\n",
       "      <th>3</th>\n",
       "      <td>Organizing, packing, and moving services deliv...</td>\n",
       "      <td>0</td>\n",
       "      <td>0</td>\n",
       "    </tr>\n",
       "    <tr>\n",
       "      <th>4</th>\n",
       "      <td>Interactive media centers for healthcare waiti...</td>\n",
       "      <td>0</td>\n",
       "      <td>0</td>\n",
       "    </tr>\n",
       "    <tr>\n",
       "      <th>...</th>\n",
       "      <td>...</td>\n",
       "      <td>...</td>\n",
       "      <td>...</td>\n",
       "    </tr>\n",
       "    <tr>\n",
       "      <th>490</th>\n",
       "      <td>Zoom Interiors is a virtual service for interi...</td>\n",
       "      <td>0</td>\n",
       "      <td>0</td>\n",
       "    </tr>\n",
       "    <tr>\n",
       "      <th>491</th>\n",
       "      <td>Spikeball started out as a casual outdoors gam...</td>\n",
       "      <td>0</td>\n",
       "      <td>0</td>\n",
       "    </tr>\n",
       "    <tr>\n",
       "      <th>492</th>\n",
       "      <td>Shark Wheel is out to literally reinvent the w...</td>\n",
       "      <td>0</td>\n",
       "      <td>0</td>\n",
       "    </tr>\n",
       "    <tr>\n",
       "      <th>493</th>\n",
       "      <td>Adriana Montano wants to open the first Cat Ca...</td>\n",
       "      <td>0</td>\n",
       "      <td>0</td>\n",
       "    </tr>\n",
       "    <tr>\n",
       "      <th>494</th>\n",
       "      <td>Sway Motorsports makes a three-wheeled, all-el...</td>\n",
       "      <td>0</td>\n",
       "      <td>0</td>\n",
       "    </tr>\n",
       "  </tbody>\n",
       "</table>\n",
       "<p>495 rows × 3 columns</p>\n",
       "</div>"
      ],
      "text/plain": [
       "                                           description  hastags  atsign\n",
       "0               Bluetooth device implant for your ear.        0       0\n",
       "1    Retail and wholesale pie factory with two reta...        0       0\n",
       "2    Ava the Elephant is a godsend for frazzled par...        0       0\n",
       "3    Organizing, packing, and moving services deliv...        0       0\n",
       "4    Interactive media centers for healthcare waiti...        0       0\n",
       "..                                                 ...      ...     ...\n",
       "490  Zoom Interiors is a virtual service for interi...        0       0\n",
       "491  Spikeball started out as a casual outdoors gam...        0       0\n",
       "492  Shark Wheel is out to literally reinvent the w...        0       0\n",
       "493  Adriana Montano wants to open the first Cat Ca...        0       0\n",
       "494  Sway Motorsports makes a three-wheeled, all-el...        0       0\n",
       "\n",
       "[495 rows x 3 columns]"
      ]
     },
     "execution_count": 144,
     "metadata": {},
     "output_type": "execute_result"
    }
   ],
   "source": [
    "#Number of special characters\n",
    "data['hastags'] = data['description'].apply(lambda x: len([x for x in x.split() if x.startswith('#')]))\n",
    "data['atsign'] = data['description'].apply(lambda x: len([x for x in x.split() if x.startswith('@')]))\n",
    "data[['description','hastags','atsign']]"
   ]
  },
  {
   "cell_type": "code",
   "execution_count": 145,
   "metadata": {},
   "outputs": [
    {
     "data": {
      "text/html": [
       "<div>\n",
       "<style scoped>\n",
       "    .dataframe tbody tr th:only-of-type {\n",
       "        vertical-align: middle;\n",
       "    }\n",
       "\n",
       "    .dataframe tbody tr th {\n",
       "        vertical-align: top;\n",
       "    }\n",
       "\n",
       "    .dataframe thead th {\n",
       "        text-align: right;\n",
       "    }\n",
       "</style>\n",
       "<table border=\"1\" class=\"dataframe\">\n",
       "  <thead>\n",
       "    <tr style=\"text-align: right;\">\n",
       "      <th></th>\n",
       "      <th>description</th>\n",
       "      <th>numerics</th>\n",
       "    </tr>\n",
       "  </thead>\n",
       "  <tbody>\n",
       "    <tr>\n",
       "      <th>0</th>\n",
       "      <td>Bluetooth device implant for your ear.</td>\n",
       "      <td>0</td>\n",
       "    </tr>\n",
       "    <tr>\n",
       "      <th>1</th>\n",
       "      <td>Retail and wholesale pie factory with two reta...</td>\n",
       "      <td>0</td>\n",
       "    </tr>\n",
       "    <tr>\n",
       "      <th>2</th>\n",
       "      <td>Ava the Elephant is a godsend for frazzled par...</td>\n",
       "      <td>0</td>\n",
       "    </tr>\n",
       "    <tr>\n",
       "      <th>3</th>\n",
       "      <td>Organizing, packing, and moving services deliv...</td>\n",
       "      <td>0</td>\n",
       "    </tr>\n",
       "    <tr>\n",
       "      <th>4</th>\n",
       "      <td>Interactive media centers for healthcare waiti...</td>\n",
       "      <td>0</td>\n",
       "    </tr>\n",
       "    <tr>\n",
       "      <th>...</th>\n",
       "      <td>...</td>\n",
       "      <td>...</td>\n",
       "    </tr>\n",
       "    <tr>\n",
       "      <th>490</th>\n",
       "      <td>Zoom Interiors is a virtual service for interi...</td>\n",
       "      <td>0</td>\n",
       "    </tr>\n",
       "    <tr>\n",
       "      <th>491</th>\n",
       "      <td>Spikeball started out as a casual outdoors gam...</td>\n",
       "      <td>2</td>\n",
       "    </tr>\n",
       "    <tr>\n",
       "      <th>492</th>\n",
       "      <td>Shark Wheel is out to literally reinvent the w...</td>\n",
       "      <td>0</td>\n",
       "    </tr>\n",
       "    <tr>\n",
       "      <th>493</th>\n",
       "      <td>Adriana Montano wants to open the first Cat Ca...</td>\n",
       "      <td>0</td>\n",
       "    </tr>\n",
       "    <tr>\n",
       "      <th>494</th>\n",
       "      <td>Sway Motorsports makes a three-wheeled, all-el...</td>\n",
       "      <td>0</td>\n",
       "    </tr>\n",
       "  </tbody>\n",
       "</table>\n",
       "<p>495 rows × 2 columns</p>\n",
       "</div>"
      ],
      "text/plain": [
       "                                           description  numerics\n",
       "0               Bluetooth device implant for your ear.         0\n",
       "1    Retail and wholesale pie factory with two reta...         0\n",
       "2    Ava the Elephant is a godsend for frazzled par...         0\n",
       "3    Organizing, packing, and moving services deliv...         0\n",
       "4    Interactive media centers for healthcare waiti...         0\n",
       "..                                                 ...       ...\n",
       "490  Zoom Interiors is a virtual service for interi...         0\n",
       "491  Spikeball started out as a casual outdoors gam...         2\n",
       "492  Shark Wheel is out to literally reinvent the w...         0\n",
       "493  Adriana Montano wants to open the first Cat Ca...         0\n",
       "494  Sway Motorsports makes a three-wheeled, all-el...         0\n",
       "\n",
       "[495 rows x 2 columns]"
      ]
     },
     "execution_count": 145,
     "metadata": {},
     "output_type": "execute_result"
    }
   ],
   "source": [
    "#Number of numerics\n",
    "data['numerics'] = data['description'].apply(lambda x: len([x for x in x.split() if x.isdigit()]))\n",
    "data[['description','numerics']]"
   ]
  },
  {
   "cell_type": "code",
   "execution_count": 146,
   "metadata": {},
   "outputs": [
    {
     "data": {
      "text/html": [
       "<div>\n",
       "<style scoped>\n",
       "    .dataframe tbody tr th:only-of-type {\n",
       "        vertical-align: middle;\n",
       "    }\n",
       "\n",
       "    .dataframe tbody tr th {\n",
       "        vertical-align: top;\n",
       "    }\n",
       "\n",
       "    .dataframe thead th {\n",
       "        text-align: right;\n",
       "    }\n",
       "</style>\n",
       "<table border=\"1\" class=\"dataframe\">\n",
       "  <thead>\n",
       "    <tr style=\"text-align: right;\">\n",
       "      <th></th>\n",
       "      <th>description</th>\n",
       "      <th>upper</th>\n",
       "    </tr>\n",
       "  </thead>\n",
       "  <tbody>\n",
       "    <tr>\n",
       "      <th>0</th>\n",
       "      <td>Bluetooth device implant for your ear.</td>\n",
       "      <td>0</td>\n",
       "    </tr>\n",
       "    <tr>\n",
       "      <th>1</th>\n",
       "      <td>Retail and wholesale pie factory with two reta...</td>\n",
       "      <td>0</td>\n",
       "    </tr>\n",
       "    <tr>\n",
       "      <th>2</th>\n",
       "      <td>Ava the Elephant is a godsend for frazzled par...</td>\n",
       "      <td>0</td>\n",
       "    </tr>\n",
       "    <tr>\n",
       "      <th>3</th>\n",
       "      <td>Organizing, packing, and moving services deliv...</td>\n",
       "      <td>0</td>\n",
       "    </tr>\n",
       "    <tr>\n",
       "      <th>4</th>\n",
       "      <td>Interactive media centers for healthcare waiti...</td>\n",
       "      <td>0</td>\n",
       "    </tr>\n",
       "    <tr>\n",
       "      <th>...</th>\n",
       "      <td>...</td>\n",
       "      <td>...</td>\n",
       "    </tr>\n",
       "    <tr>\n",
       "      <th>490</th>\n",
       "      <td>Zoom Interiors is a virtual service for interi...</td>\n",
       "      <td>0</td>\n",
       "    </tr>\n",
       "    <tr>\n",
       "      <th>491</th>\n",
       "      <td>Spikeball started out as a casual outdoors gam...</td>\n",
       "      <td>0</td>\n",
       "    </tr>\n",
       "    <tr>\n",
       "      <th>492</th>\n",
       "      <td>Shark Wheel is out to literally reinvent the w...</td>\n",
       "      <td>0</td>\n",
       "    </tr>\n",
       "    <tr>\n",
       "      <th>493</th>\n",
       "      <td>Adriana Montano wants to open the first Cat Ca...</td>\n",
       "      <td>0</td>\n",
       "    </tr>\n",
       "    <tr>\n",
       "      <th>494</th>\n",
       "      <td>Sway Motorsports makes a three-wheeled, all-el...</td>\n",
       "      <td>0</td>\n",
       "    </tr>\n",
       "  </tbody>\n",
       "</table>\n",
       "<p>495 rows × 2 columns</p>\n",
       "</div>"
      ],
      "text/plain": [
       "                                           description  upper\n",
       "0               Bluetooth device implant for your ear.      0\n",
       "1    Retail and wholesale pie factory with two reta...      0\n",
       "2    Ava the Elephant is a godsend for frazzled par...      0\n",
       "3    Organizing, packing, and moving services deliv...      0\n",
       "4    Interactive media centers for healthcare waiti...      0\n",
       "..                                                 ...    ...\n",
       "490  Zoom Interiors is a virtual service for interi...      0\n",
       "491  Spikeball started out as a casual outdoors gam...      0\n",
       "492  Shark Wheel is out to literally reinvent the w...      0\n",
       "493  Adriana Montano wants to open the first Cat Ca...      0\n",
       "494  Sway Motorsports makes a three-wheeled, all-el...      0\n",
       "\n",
       "[495 rows x 2 columns]"
      ]
     },
     "execution_count": 146,
     "metadata": {},
     "output_type": "execute_result"
    }
   ],
   "source": [
    "# Number of uppercase words\n",
    "data['upper'] = data['description'].apply(lambda x: len([x for x in x.split() if x.isupper()]))\n",
    "data[['description','upper']]"
   ]
  },
  {
   "cell_type": "markdown",
   "metadata": {
    "nbgrader": {
     "grade": false,
     "grade_id": "cell-66056768e9d57cbb",
     "locked": true,
     "schema_version": 3,
     "solution": false,
     "task": false
    }
   },
   "source": [
    "**--> Performing Advanced Text Pre-processing of text data**"
   ]
  },
  {
   "cell_type": "code",
   "execution_count": 147,
   "metadata": {
    "nbgrader": {
     "grade": true,
     "grade_id": "Adv_Text_Processing",
     "locked": false,
     "points": 25,
     "schema_version": 3,
     "solution": true,
     "task": false
    }
   },
   "outputs": [
    {
     "data": {
      "text/plain": [
       "0               bluetooth device implant for your ear.\n",
       "1    retail and wholesale pie factory with two reta...\n",
       "2    ava the elephant is a godsend for frazzled par...\n",
       "3    organizing, packing, and moving services deliv...\n",
       "4    interactive media centers for healthcare waiti...\n",
       "Name: description, dtype: object"
      ]
     },
     "execution_count": 147,
     "metadata": {},
     "output_type": "execute_result"
    }
   ],
   "source": [
    "#- Lower casing\n",
    "data['description'] = data['description'].apply(lambda x: \" \".join(x.lower() for x in x.split()))\n",
    "data['description'].head()"
   ]
  },
  {
   "cell_type": "code",
   "execution_count": 148,
   "metadata": {},
   "outputs": [
    {
     "data": {
      "text/plain": [
       "0                bluetooth device implant for your ear\n",
       "1    retail and wholesale pie factory with two reta...\n",
       "2    ava the elephant is a godsend for frazzled par...\n",
       "3    organizing packing and moving services deliver...\n",
       "4    interactive media centers for healthcare waiti...\n",
       "Name: description, dtype: object"
      ]
     },
     "execution_count": 148,
     "metadata": {},
     "output_type": "execute_result"
    }
   ],
   "source": [
    "#- Punctuation removal\n",
    "data['description'] = data['description'].str.replace('[^\\w\\s]','')\n",
    "data['description'].head()"
   ]
  },
  {
   "cell_type": "code",
   "execution_count": 149,
   "metadata": {},
   "outputs": [
    {
     "data": {
      "text/plain": [
       "0                         bluetooth device implant ear\n",
       "1    retail wholesale pie factory two retail locati...\n",
       "2    ava elephant godsend frazzled parents young ch...\n",
       "3    organizing packing moving services delivered c...\n",
       "4    interactive media centers healthcare waiting r...\n",
       "Name: description, dtype: object"
      ]
     },
     "execution_count": 149,
     "metadata": {},
     "output_type": "execute_result"
    }
   ],
   "source": [
    "# -Stopwords removal\n",
    "stop = stopwords.words('english')\n",
    "data['description'] = data['description'].apply(lambda x: \" \".join(x for x in x.split() if x not in stop))\n",
    "data['description'].head()"
   ]
  },
  {
   "cell_type": "code",
   "execution_count": 151,
   "metadata": {},
   "outputs": [
    {
     "data": {
      "text/plain": [
       "made    73\n",
       "dtype: int64"
      ]
     },
     "execution_count": 151,
     "metadata": {},
     "output_type": "execute_result"
    }
   ],
   "source": [
    "#- Frequent words removal (if require)\n",
    "freq = pd.Series(' '.join(data['description']).split()).value_counts()[:1]\n",
    "freq\n",
    "#this is the most occured word in the dataset"
   ]
  },
  {
   "cell_type": "code",
   "execution_count": 152,
   "metadata": {},
   "outputs": [
    {
     "data": {
      "text/plain": [
       "0                         bluetooth device implant ear\n",
       "1    retail wholesale pie factory two retail locati...\n",
       "2    ava elephant godsend frazzled parents young ch...\n",
       "3    organizing packing moving services delivered c...\n",
       "4    interactive media centers healthcare waiting r...\n",
       "Name: description, dtype: object"
      ]
     },
     "execution_count": 152,
     "metadata": {},
     "output_type": "execute_result"
    }
   ],
   "source": [
    "## removing the most occured words from text\n",
    "freq = list(freq.index)\n",
    "data['description'] = data['description'].apply(lambda x: \" \".join(x for x in x.split() if x not in freq))\n",
    "data['description'].head()"
   ]
  },
  {
   "cell_type": "code",
   "execution_count": 153,
   "metadata": {},
   "outputs": [
    {
     "data": {
      "text/plain": [
       "inflating    1\n",
       "stopper      1\n",
       "becomes      1\n",
       "kennel       1\n",
       "cookware     1\n",
       "dtype: int64"
      ]
     },
     "execution_count": 153,
     "metadata": {},
     "output_type": "execute_result"
    }
   ],
   "source": [
    "#- Rare words removal (if require)\n",
    "freq = pd.Series(' '.join(data['description']).split()).value_counts()[-5:]\n",
    "freq\n",
    "#These are the 5 rarest occuring words in the dataset"
   ]
  },
  {
   "cell_type": "code",
   "execution_count": 154,
   "metadata": {},
   "outputs": [
    {
     "data": {
      "text/plain": [
       "0                         bluetooth device implant ear\n",
       "1    retail wholesale pie factory two retail locati...\n",
       "2    ava elephant godsend frazzled parents young ch...\n",
       "3    organizing packing moving services delivered c...\n",
       "4    interactive media centers healthcare waiting r...\n",
       "Name: description, dtype: object"
      ]
     },
     "execution_count": 154,
     "metadata": {},
     "output_type": "execute_result"
    }
   ],
   "source": [
    "freq = list(freq.index)\n",
    "data['description'] = data['description'].apply(lambda x: \" \".join(x for x in x.split() if x not in freq))\n",
    "data['description'].head()"
   ]
  },
  {
   "cell_type": "code",
   "execution_count": 91,
   "metadata": {},
   "outputs": [
    {
     "name": "stdout",
     "output_type": "stream",
     "text": [
      "Requirement already up-to-date: textblob in c:\\users\\oth.nousatraining\\anaconda3\\lib\\site-packages (0.15.3)\n",
      "Requirement already satisfied, skipping upgrade: nltk>=3.1 in c:\\users\\oth.nousatraining\\anaconda3\\lib\\site-packages (from textblob) (3.5)\n",
      "Requirement already satisfied, skipping upgrade: regex in c:\\users\\oth.nousatraining\\anaconda3\\lib\\site-packages (from nltk>=3.1->textblob) (2020.6.8)\n",
      "Requirement already satisfied, skipping upgrade: tqdm in c:\\users\\oth.nousatraining\\anaconda3\\lib\\site-packages (from nltk>=3.1->textblob) (4.47.0)\n",
      "Requirement already satisfied, skipping upgrade: click in c:\\users\\oth.nousatraining\\anaconda3\\lib\\site-packages (from nltk>=3.1->textblob) (7.1.2)\n",
      "Requirement already satisfied, skipping upgrade: joblib in c:\\users\\oth.nousatraining\\anaconda3\\lib\\site-packages (from nltk>=3.1->textblob) (0.16.0)\n"
     ]
    }
   ],
   "source": [
    "#!pip install textblob      #for installation\n",
    "!pip3 install -U textblob\n",
    "# import textblob            #to import\n",
    "# from textblob import TextBlob"
   ]
  },
  {
   "cell_type": "code",
   "execution_count": 155,
   "metadata": {},
   "outputs": [
    {
     "data": {
      "text/plain": [
       "0                           bluetooth device plant ear\n",
       "1    retail wholesale pie factory two retail locati...\n",
       "2    va elephant godson grizzled parents young chil...\n",
       "3    organizing packing moving services delivered c...\n",
       "4    interactive media centers healthcare waiting r...\n",
       "Name: description, dtype: object"
      ]
     },
     "execution_count": 155,
     "metadata": {},
     "output_type": "execute_result"
    }
   ],
   "source": [
    "#- Spelling correction (if require)\n",
    "from textblob import TextBlob\n",
    "data['description'][:5].apply(lambda x: str(TextBlob(x).correct()))"
   ]
  },
  {
   "cell_type": "code",
   "execution_count": 160,
   "metadata": {},
   "outputs": [
    {
     "data": {
      "text/plain": [
       "WordList(['bluetooth', 'device', 'implant', 'ear'])"
      ]
     },
     "execution_count": 160,
     "metadata": {},
     "output_type": "execute_result"
    }
   ],
   "source": [
    "#- Tokenization\n",
    "#dividing the text into a sequence of words or sentences\n",
    "TextBlob(data['description'][0]).words"
   ]
  },
  {
   "cell_type": "code",
   "execution_count": 161,
   "metadata": {},
   "outputs": [
    {
     "data": {
      "text/plain": [
       "0                            bluetooth devic implant ear\n",
       "1      retail wholesal pie factori two retail locat n...\n",
       "2      ava eleph godsend frazzl parent young children...\n",
       "3              organ pack move servic deliv colleg women\n",
       "4      interact media center healthcar wait room offe...\n",
       "                             ...                        \n",
       "490    zoom interior virtual servic interior design d...\n",
       "491    spikebal start casual outdoor game grown becom...\n",
       "492    shark wheel liter reinvent wheel innov wheel d...\n",
       "493    adriana montano want open first cat cafe flori...\n",
       "494    sway motorsport make threewheel allelectr stre...\n",
       "Name: description, Length: 495, dtype: object"
      ]
     },
     "execution_count": 161,
     "metadata": {},
     "output_type": "execute_result"
    }
   ],
   "source": [
    "#- Stemming (if require)\n",
    "# {removal of suffices, like “ing”, “ly”, “s”, etc.}\n",
    "from nltk.stem import PorterStemmer\n",
    "st = PorterStemmer()\n",
    "data['description'].apply(lambda x: \" \".join([st.stem(word) for word in x.split()]))"
   ]
  },
  {
   "cell_type": "code",
   "execution_count": 162,
   "metadata": {},
   "outputs": [
    {
     "data": {
      "text/plain": [
       "0                         bluetooth device implant ear\n",
       "1    retail wholesale pie factory two retail locati...\n",
       "2    ava elephant godsend frazzled parent young chi...\n",
       "3    organizing packing moving service delivered co...\n",
       "4    interactive medium center healthcare waiting r...\n",
       "Name: description, dtype: object"
      ]
     },
     "execution_count": 162,
     "metadata": {},
     "output_type": "execute_result"
    }
   ],
   "source": [
    "#- Lemmatization (if require)\n",
    "#converts the word into its root word\n",
    "from textblob import Word\n",
    "data['description'] = data['description'].apply(lambda x: \" \".join([Word(word).lemmatize() for word in x.split()]))\n",
    "data['description'].head()"
   ]
  },
  {
   "cell_type": "markdown",
   "metadata": {
    "nbgrader": {
     "grade": false,
     "grade_id": "cell-2ec5f92bf10a2282",
     "locked": true,
     "schema_version": 3,
     "solution": false,
     "task": false
    }
   },
   "source": [
    "**--> Performing Feature engineering**"
   ]
  },
  {
   "cell_type": "code",
   "execution_count": 164,
   "metadata": {
    "nbgrader": {
     "grade": true,
     "grade_id": "Feature_engineering",
     "locked": false,
     "points": 25,
     "schema_version": 3,
     "solution": true,
     "task": false
    }
   },
   "outputs": [
    {
     "data": {
      "text/plain": [
       "[WordList(['bluetooth', 'device', 'implant']),\n",
       " WordList(['device', 'implant', 'ear'])]"
      ]
     },
     "execution_count": 164,
     "metadata": {},
     "output_type": "execute_result"
    }
   ],
   "source": [
    "\"\"\"Convert text into features\"\"\"\n",
    "### BEGIN SOLUTION\n",
    "# N-grams {combination of multiple words used together}\n",
    "TextBlob(data['description'][0]).ngrams(3)\n",
    "### END SOLUTION"
   ]
  },
  {
   "cell_type": "code",
   "execution_count": 165,
   "metadata": {},
   "outputs": [
    {
     "data": {
      "text/html": [
       "<div>\n",
       "<style scoped>\n",
       "    .dataframe tbody tr th:only-of-type {\n",
       "        vertical-align: middle;\n",
       "    }\n",
       "\n",
       "    .dataframe tbody tr th {\n",
       "        vertical-align: top;\n",
       "    }\n",
       "\n",
       "    .dataframe thead th {\n",
       "        text-align: right;\n",
       "    }\n",
       "</style>\n",
       "<table border=\"1\" class=\"dataframe\">\n",
       "  <thead>\n",
       "    <tr style=\"text-align: right;\">\n",
       "      <th></th>\n",
       "      <th>words</th>\n",
       "      <th>tf</th>\n",
       "    </tr>\n",
       "  </thead>\n",
       "  <tbody>\n",
       "    <tr>\n",
       "      <th>0</th>\n",
       "      <td>retail</td>\n",
       "      <td>2</td>\n",
       "    </tr>\n",
       "    <tr>\n",
       "      <th>1</th>\n",
       "      <td>factory</td>\n",
       "      <td>1</td>\n",
       "    </tr>\n",
       "    <tr>\n",
       "      <th>2</th>\n",
       "      <td>pie</td>\n",
       "      <td>1</td>\n",
       "    </tr>\n",
       "    <tr>\n",
       "      <th>3</th>\n",
       "      <td>new</td>\n",
       "      <td>1</td>\n",
       "    </tr>\n",
       "    <tr>\n",
       "      <th>4</th>\n",
       "      <td>location</td>\n",
       "      <td>1</td>\n",
       "    </tr>\n",
       "    <tr>\n",
       "      <th>5</th>\n",
       "      <td>two</td>\n",
       "      <td>1</td>\n",
       "    </tr>\n",
       "    <tr>\n",
       "      <th>6</th>\n",
       "      <td>jersey</td>\n",
       "      <td>1</td>\n",
       "    </tr>\n",
       "    <tr>\n",
       "      <th>7</th>\n",
       "      <td>wholesale</td>\n",
       "      <td>1</td>\n",
       "    </tr>\n",
       "  </tbody>\n",
       "</table>\n",
       "</div>"
      ],
      "text/plain": [
       "       words  tf\n",
       "0     retail   2\n",
       "1    factory   1\n",
       "2        pie   1\n",
       "3        new   1\n",
       "4   location   1\n",
       "5        two   1\n",
       "6     jersey   1\n",
       "7  wholesale   1"
      ]
     },
     "execution_count": 165,
     "metadata": {},
     "output_type": "execute_result"
    }
   ],
   "source": [
    "# Term frequency(ratio of the count of a word present in a sentence, to the length of the sentence)\n",
    "    #TF = (Number of times term T appears in the particular row) / (number of terms in that row)\n",
    "    \n",
    "tf1 = (data['description'][1:2]).apply(lambda x: pd.value_counts(x.split(\" \"))).sum(axis = 0).reset_index()\n",
    "tf1.columns = ['words','tf']\n",
    "tf1"
   ]
  },
  {
   "cell_type": "code",
   "execution_count": 166,
   "metadata": {},
   "outputs": [
    {
     "data": {
      "text/html": [
       "<div>\n",
       "<style scoped>\n",
       "    .dataframe tbody tr th:only-of-type {\n",
       "        vertical-align: middle;\n",
       "    }\n",
       "\n",
       "    .dataframe tbody tr th {\n",
       "        vertical-align: top;\n",
       "    }\n",
       "\n",
       "    .dataframe thead th {\n",
       "        text-align: right;\n",
       "    }\n",
       "</style>\n",
       "<table border=\"1\" class=\"dataframe\">\n",
       "  <thead>\n",
       "    <tr style=\"text-align: right;\">\n",
       "      <th></th>\n",
       "      <th>words</th>\n",
       "      <th>tf</th>\n",
       "      <th>idf</th>\n",
       "    </tr>\n",
       "  </thead>\n",
       "  <tbody>\n",
       "    <tr>\n",
       "      <th>0</th>\n",
       "      <td>retail</td>\n",
       "      <td>2</td>\n",
       "      <td>3.496508</td>\n",
       "    </tr>\n",
       "    <tr>\n",
       "      <th>1</th>\n",
       "      <td>factory</td>\n",
       "      <td>1</td>\n",
       "      <td>5.511411</td>\n",
       "    </tr>\n",
       "    <tr>\n",
       "      <th>2</th>\n",
       "      <td>pie</td>\n",
       "      <td>1</td>\n",
       "      <td>3.901973</td>\n",
       "    </tr>\n",
       "    <tr>\n",
       "      <th>3</th>\n",
       "      <td>new</td>\n",
       "      <td>1</td>\n",
       "      <td>3.026504</td>\n",
       "    </tr>\n",
       "    <tr>\n",
       "      <th>4</th>\n",
       "      <td>location</td>\n",
       "      <td>1</td>\n",
       "      <td>5.105945</td>\n",
       "    </tr>\n",
       "    <tr>\n",
       "      <th>5</th>\n",
       "      <td>two</td>\n",
       "      <td>1</td>\n",
       "      <td>3.208825</td>\n",
       "    </tr>\n",
       "    <tr>\n",
       "      <th>6</th>\n",
       "      <td>jersey</td>\n",
       "      <td>1</td>\n",
       "      <td>6.204558</td>\n",
       "    </tr>\n",
       "    <tr>\n",
       "      <th>7</th>\n",
       "      <td>wholesale</td>\n",
       "      <td>1</td>\n",
       "      <td>6.204558</td>\n",
       "    </tr>\n",
       "  </tbody>\n",
       "</table>\n",
       "</div>"
      ],
      "text/plain": [
       "       words  tf       idf\n",
       "0     retail   2  3.496508\n",
       "1    factory   1  5.511411\n",
       "2        pie   1  3.901973\n",
       "3        new   1  3.026504\n",
       "4   location   1  5.105945\n",
       "5        two   1  3.208825\n",
       "6     jersey   1  6.204558\n",
       "7  wholesale   1  6.204558"
      ]
     },
     "execution_count": 166,
     "metadata": {},
     "output_type": "execute_result"
    }
   ],
   "source": [
    "# Inverse Document Frequency\n",
    "    #IDF = log(N/n), where, N is the total number of rows and n is the number of rows in which the word was present.\n",
    "for i,word in enumerate(tf1['words']):\n",
    "  tf1.loc[i, 'idf'] = np.log(data.shape[0]/(len(data[data['description'].str.contains(word)])))\n",
    "\n",
    "tf1"
   ]
  },
  {
   "cell_type": "code",
   "execution_count": 167,
   "metadata": {},
   "outputs": [
    {
     "data": {
      "text/html": [
       "<div>\n",
       "<style scoped>\n",
       "    .dataframe tbody tr th:only-of-type {\n",
       "        vertical-align: middle;\n",
       "    }\n",
       "\n",
       "    .dataframe tbody tr th {\n",
       "        vertical-align: top;\n",
       "    }\n",
       "\n",
       "    .dataframe thead th {\n",
       "        text-align: right;\n",
       "    }\n",
       "</style>\n",
       "<table border=\"1\" class=\"dataframe\">\n",
       "  <thead>\n",
       "    <tr style=\"text-align: right;\">\n",
       "      <th></th>\n",
       "      <th>words</th>\n",
       "      <th>tf</th>\n",
       "      <th>idf</th>\n",
       "      <th>tfidf</th>\n",
       "    </tr>\n",
       "  </thead>\n",
       "  <tbody>\n",
       "    <tr>\n",
       "      <th>0</th>\n",
       "      <td>retail</td>\n",
       "      <td>2</td>\n",
       "      <td>3.496508</td>\n",
       "      <td>6.993015</td>\n",
       "    </tr>\n",
       "    <tr>\n",
       "      <th>1</th>\n",
       "      <td>factory</td>\n",
       "      <td>1</td>\n",
       "      <td>5.511411</td>\n",
       "      <td>5.511411</td>\n",
       "    </tr>\n",
       "    <tr>\n",
       "      <th>2</th>\n",
       "      <td>pie</td>\n",
       "      <td>1</td>\n",
       "      <td>3.901973</td>\n",
       "      <td>3.901973</td>\n",
       "    </tr>\n",
       "    <tr>\n",
       "      <th>3</th>\n",
       "      <td>new</td>\n",
       "      <td>1</td>\n",
       "      <td>3.026504</td>\n",
       "      <td>3.026504</td>\n",
       "    </tr>\n",
       "    <tr>\n",
       "      <th>4</th>\n",
       "      <td>location</td>\n",
       "      <td>1</td>\n",
       "      <td>5.105945</td>\n",
       "      <td>5.105945</td>\n",
       "    </tr>\n",
       "    <tr>\n",
       "      <th>5</th>\n",
       "      <td>two</td>\n",
       "      <td>1</td>\n",
       "      <td>3.208825</td>\n",
       "      <td>3.208825</td>\n",
       "    </tr>\n",
       "    <tr>\n",
       "      <th>6</th>\n",
       "      <td>jersey</td>\n",
       "      <td>1</td>\n",
       "      <td>6.204558</td>\n",
       "      <td>6.204558</td>\n",
       "    </tr>\n",
       "    <tr>\n",
       "      <th>7</th>\n",
       "      <td>wholesale</td>\n",
       "      <td>1</td>\n",
       "      <td>6.204558</td>\n",
       "      <td>6.204558</td>\n",
       "    </tr>\n",
       "  </tbody>\n",
       "</table>\n",
       "</div>"
      ],
      "text/plain": [
       "       words  tf       idf     tfidf\n",
       "0     retail   2  3.496508  6.993015\n",
       "1    factory   1  5.511411  5.511411\n",
       "2        pie   1  3.901973  3.901973\n",
       "3        new   1  3.026504  3.026504\n",
       "4   location   1  5.105945  5.105945\n",
       "5        two   1  3.208825  3.208825\n",
       "6     jersey   1  6.204558  6.204558\n",
       "7  wholesale   1  6.204558  6.204558"
      ]
     },
     "execution_count": 167,
     "metadata": {},
     "output_type": "execute_result"
    }
   ],
   "source": [
    "tf1['tfidf'] = tf1['tf'] * tf1['idf']\n",
    "tf1"
   ]
  },
  {
   "cell_type": "code",
   "execution_count": 168,
   "metadata": {},
   "outputs": [
    {
     "data": {
      "text/plain": [
       "<495x1000 sparse matrix of type '<class 'numpy.float64'>'\n",
       "\twith 5211 stored elements in Compressed Sparse Row format>"
      ]
     },
     "execution_count": 168,
     "metadata": {},
     "output_type": "execute_result"
    }
   ],
   "source": [
    "from sklearn.feature_extraction.text import TfidfVectorizer\n",
    "tfidf = TfidfVectorizer(max_features=1000, lowercase=True, analyzer='word', stop_words= 'english',ngram_range=(1,1))\n",
    "train_vect = tfidf.fit_transform(data['description'])\n",
    "train_vect"
   ]
  },
  {
   "cell_type": "markdown",
   "metadata": {
    "nbgrader": {
     "grade": false,
     "grade_id": "cell-a6e4502d2303a693",
     "locked": true,
     "schema_version": 3,
     "solution": false,
     "task": false
    }
   },
   "source": [
    "**-->Creating a word cloud with bi-grams**"
   ]
  },
  {
   "cell_type": "code",
   "execution_count": 169,
   "metadata": {},
   "outputs": [
    {
     "name": "stdout",
     "output_type": "stream",
     "text": [
      "Requirement already satisfied: wordcloud in c:\\users\\oth.nousatraining\\anaconda3\\lib\\site-packages (1.8.1)\n",
      "Requirement already satisfied: numpy>=1.6.1 in c:\\users\\oth.nousatraining\\anaconda3\\lib\\site-packages (from wordcloud) (1.18.5)\n",
      "Requirement already satisfied: matplotlib in c:\\users\\oth.nousatraining\\anaconda3\\lib\\site-packages (from wordcloud) (3.2.2)\n",
      "Requirement already satisfied: pillow in c:\\users\\oth.nousatraining\\anaconda3\\lib\\site-packages (from wordcloud) (7.2.0)\n",
      "Requirement already satisfied: kiwisolver>=1.0.1 in c:\\users\\oth.nousatraining\\anaconda3\\lib\\site-packages (from matplotlib->wordcloud) (1.2.0)\n",
      "Requirement already satisfied: pyparsing!=2.0.4,!=2.1.2,!=2.1.6,>=2.0.1 in c:\\users\\oth.nousatraining\\anaconda3\\lib\\site-packages (from matplotlib->wordcloud) (2.4.7)\n",
      "Requirement already satisfied: python-dateutil>=2.1 in c:\\users\\oth.nousatraining\\anaconda3\\lib\\site-packages (from matplotlib->wordcloud) (2.8.1)\n",
      "Requirement already satisfied: cycler>=0.10 in c:\\users\\oth.nousatraining\\anaconda3\\lib\\site-packages (from matplotlib->wordcloud) (0.10.0)\n",
      "Requirement already satisfied: six>=1.5 in c:\\users\\oth.nousatraining\\anaconda3\\lib\\site-packages (from python-dateutil>=2.1->matplotlib->wordcloud) (1.15.0)\n"
     ]
    }
   ],
   "source": [
    "!pip install wordcloud "
   ]
  },
  {
   "cell_type": "code",
   "execution_count": 170,
   "metadata": {
    "nbgrader": {
     "grade": true,
     "grade_id": "word_cloud",
     "locked": false,
     "points": 10,
     "schema_version": 3,
     "solution": true,
     "task": false
    }
   },
   "outputs": [],
   "source": [
    "\n",
    "### BEGIN SOLUTION\n",
    "## Generating wordcloud from text\n",
    "from wordcloud import WordCloud, STOPWORDS\n",
    "import matplotlib.pyplot as plt\n",
    "stopwords = set(STOPWORDS)\n",
    "\n",
    "def show_wordcloud(data, title = None):\n",
    "    wordcloud = WordCloud(\n",
    "        background_color='white',\n",
    "        stopwords=stopwords,\n",
    "        max_words=500,\n",
    "        max_font_size=20, \n",
    "        scale=3,\n",
    "        random_state=1 \n",
    "    ).generate(str(data))\n",
    "\n",
    "    fig = plt.figure(1, figsize=(12, 12))\n",
    "    plt.axis('off')\n",
    "    if title: \n",
    "        fig.suptitle(title, fontsize=15)\n",
    "        fig.subplots_adjust(top=2.3)\n",
    "\n",
    "    plt.imshow(wordcloud)\n",
    "    plt.show()\n",
    "### END SOLUTION"
   ]
  },
  {
   "cell_type": "code",
   "execution_count": 171,
   "metadata": {},
   "outputs": [
    {
     "data": {
      "image/png": "[encoded data removed]",
      "text/plain": [
       "<Figure size 864x864 with 1 Axes>"
      ]
     },
     "metadata": {
      "needs_background": "light"
     },
     "output_type": "display_data"
    }
   ],
   "source": [
    "show_wordcloud(data['description'])"
   ]
  },
  {
   "cell_type": "markdown",
   "metadata": {
    "nbgrader": {
     "grade": false,
     "grade_id": "cell-ad3a5c4d0a53c15a",
     "locked": true,
     "schema_version": 3,
     "solution": false,
     "task": false
    }
   },
   "source": [
    "**--> Applying ML Algorithm**"
   ]
  },
  {
   "cell_type": "code",
   "execution_count": 172,
   "metadata": {
    "nbgrader": {
     "grade": true,
     "grade_id": "Model_training",
     "locked": false,
     "points": 20,
     "schema_version": 3,
     "solution": true,
     "task": false
    }
   },
   "outputs": [
    {
     "data": {
      "text/html": [
       "<div>\n",
       "<style scoped>\n",
       "    .dataframe tbody tr th:only-of-type {\n",
       "        vertical-align: middle;\n",
       "    }\n",
       "\n",
       "    .dataframe tbody tr th {\n",
       "        vertical-align: top;\n",
       "    }\n",
       "\n",
       "    .dataframe thead th {\n",
       "        text-align: right;\n",
       "    }\n",
       "</style>\n",
       "<table border=\"1\" class=\"dataframe\">\n",
       "  <thead>\n",
       "    <tr style=\"text-align: right;\">\n",
       "      <th></th>\n",
       "      <th>deal</th>\n",
       "      <th>description</th>\n",
       "      <th>word_count</th>\n",
       "      <th>char_count</th>\n",
       "      <th>avg_word</th>\n",
       "      <th>stopwords</th>\n",
       "      <th>hastags</th>\n",
       "      <th>atsign</th>\n",
       "      <th>numerics</th>\n",
       "      <th>upper</th>\n",
       "      <th>Tokens</th>\n",
       "    </tr>\n",
       "  </thead>\n",
       "  <tbody>\n",
       "    <tr>\n",
       "      <th>0</th>\n",
       "      <td>False</td>\n",
       "      <td>bluetooth device implant ear</td>\n",
       "      <td>6</td>\n",
       "      <td>38</td>\n",
       "      <td>5.500000</td>\n",
       "      <td>2</td>\n",
       "      <td>0</td>\n",
       "      <td>0</td>\n",
       "      <td>0</td>\n",
       "      <td>0</td>\n",
       "      <td>[bluetooth, device, implant, ear]</td>\n",
       "    </tr>\n",
       "    <tr>\n",
       "      <th>1</th>\n",
       "      <td>True</td>\n",
       "      <td>retail wholesale pie factory two retail locati...</td>\n",
       "      <td>12</td>\n",
       "      <td>73</td>\n",
       "      <td>5.166667</td>\n",
       "      <td>3</td>\n",
       "      <td>0</td>\n",
       "      <td>0</td>\n",
       "      <td>0</td>\n",
       "      <td>0</td>\n",
       "      <td>[retail, wholesale, pie, factory, two, retail,...</td>\n",
       "    </tr>\n",
       "    <tr>\n",
       "      <th>2</th>\n",
       "      <td>True</td>\n",
       "      <td>ava elephant godsend frazzled parent young chi...</td>\n",
       "      <td>37</td>\n",
       "      <td>244</td>\n",
       "      <td>5.621622</td>\n",
       "      <td>13</td>\n",
       "      <td>0</td>\n",
       "      <td>0</td>\n",
       "      <td>0</td>\n",
       "      <td>0</td>\n",
       "      <td>[ava, elephant, godsend, frazzled, parent, you...</td>\n",
       "    </tr>\n",
       "    <tr>\n",
       "      <th>3</th>\n",
       "      <td>False</td>\n",
       "      <td>organizing packing moving service delivered co...</td>\n",
       "      <td>9</td>\n",
       "      <td>68</td>\n",
       "      <td>6.666667</td>\n",
       "      <td>2</td>\n",
       "      <td>0</td>\n",
       "      <td>0</td>\n",
       "      <td>0</td>\n",
       "      <td>0</td>\n",
       "      <td>[organizing, packing, moving, service, deliver...</td>\n",
       "    </tr>\n",
       "    <tr>\n",
       "      <th>4</th>\n",
       "      <td>False</td>\n",
       "      <td>interactive medium center healthcare waiting r...</td>\n",
       "      <td>14</td>\n",
       "      <td>112</td>\n",
       "      <td>7.071429</td>\n",
       "      <td>2</td>\n",
       "      <td>0</td>\n",
       "      <td>0</td>\n",
       "      <td>0</td>\n",
       "      <td>0</td>\n",
       "      <td>[interactive, medium, center, healthcare, wait...</td>\n",
       "    </tr>\n",
       "  </tbody>\n",
       "</table>\n",
       "</div>"
      ],
      "text/plain": [
       "    deal                                        description  word_count  \\\n",
       "0  False                       bluetooth device implant ear           6   \n",
       "1   True  retail wholesale pie factory two retail locati...          12   \n",
       "2   True  ava elephant godsend frazzled parent young chi...          37   \n",
       "3  False  organizing packing moving service delivered co...           9   \n",
       "4  False  interactive medium center healthcare waiting r...          14   \n",
       "\n",
       "   char_count  avg_word  stopwords  hastags  atsign  numerics  upper  \\\n",
       "0          38  5.500000          2        0       0         0      0   \n",
       "1          73  5.166667          3        0       0         0      0   \n",
       "2         244  5.621622         13        0       0         0      0   \n",
       "3          68  6.666667          2        0       0         0      0   \n",
       "4         112  7.071429          2        0       0         0      0   \n",
       "\n",
       "                                              Tokens  \n",
       "0                  [bluetooth, device, implant, ear]  \n",
       "1  [retail, wholesale, pie, factory, two, retail,...  \n",
       "2  [ava, elephant, godsend, frazzled, parent, you...  \n",
       "3  [organizing, packing, moving, service, deliver...  \n",
       "4  [interactive, medium, center, healthcare, wait...  "
      ]
     },
     "execution_count": 172,
     "metadata": {},
     "output_type": "execute_result"
    }
   ],
   "source": [
    "\"\"\"Performing data modeling on train data and check the model performance\"\"\"\n",
    "\n",
    "data['Tokens']=data['description'].apply(lambda x:TextBlob(x).words)\n",
    "data.head()"
   ]
  },
  {
   "cell_type": "code",
   "execution_count": 173,
   "metadata": {},
   "outputs": [],
   "source": [
    "# creating tf-idf matrix using sklearn\n",
    "\n",
    "vectorizer = TfidfVectorizer()\n",
    "vectorizer_ = vectorizer.fit(data['description'])"
   ]
  },
  {
   "cell_type": "code",
   "execution_count": 174,
   "metadata": {},
   "outputs": [
    {
     "name": "stdout",
     "output_type": "stream",
     "text": [
      "(396,) (99,) (396,) (99,)\n"
     ]
    }
   ],
   "source": [
    "#use 80% portion of data for model training and 20% for model testing\"\"\"\n",
    "X = data['description']\n",
    "Y = data['deal']\n",
    "from sklearn.model_selection import train_test_split\n",
    "# Split the data in test & train for modelling\n",
    "X_train, X_test, y_train, y_test = train_test_split(X, Y, test_size=0.20, random_state=27)\n",
    "\n",
    "print(X_train.shape, X_test.shape, y_train.shape, y_test.shape) "
   ]
  },
  {
   "cell_type": "code",
   "execution_count": 175,
   "metadata": {},
   "outputs": [
    {
     "data": {
      "text/plain": [
       "(396, 4163)"
      ]
     },
     "execution_count": 175,
     "metadata": {},
     "output_type": "execute_result"
    }
   ],
   "source": [
    "# Transform the text using TF-IDF Vectorizer\n",
    "X_train_ = vectorizer_.transform(X_train)\n",
    "X_test_ = vectorizer_.transform(X_test)\n",
    "X_train_.shape"
   ]
  },
  {
   "cell_type": "code",
   "execution_count": 176,
   "metadata": {},
   "outputs": [
    {
     "name": "stdout",
     "output_type": "stream",
     "text": [
      "Check whether the target variable is balanced or not\n",
      "True     200\n",
      "False    196\n",
      "Name: deal, dtype: int64\n"
     ]
    },
    {
     "data": {
      "image/png": "[encoded data removed]",
      "text/plain": [
       "<Figure size 432x288 with 1 Axes>"
      ]
     },
     "metadata": {
      "needs_background": "light"
     },
     "output_type": "display_data"
    },
    {
     "name": "stdout",
     "output_type": "stream",
     "text": [
      "\n",
      "\n"
     ]
    },
    {
     "data": {
      "text/plain": [
       "<Figure size 432x288 with 0 Axes>"
      ]
     },
     "metadata": {},
     "output_type": "display_data"
    }
   ],
   "source": [
    "#Checking the target \n",
    "print(\"Check whether the target variable is balanced or not\")\n",
    "print(y_train.value_counts())\n",
    "\n",
    "sns.countplot(x='deal', data=data, palette='hls')\n",
    "plt.show()\n",
    "plt.savefig('count_plot')\n",
    "print()\n",
    "\n",
    "count_no_sub = len(data[data['deal']==0])\n",
    "count_sub = len(data[data['deal']==1])\n",
    "print()"
   ]
  },
  {
   "cell_type": "markdown",
   "metadata": {},
   "source": [
    "### Model 1 : Logistic Regression"
   ]
  },
  {
   "cell_type": "code",
   "execution_count": 177,
   "metadata": {},
   "outputs": [],
   "source": [
    "#Build logistic regression classifier\n",
    "from sklearn import preprocessing\n",
    "from sklearn.linear_model import LogisticRegression\n",
    "classifier = LogisticRegression(solver='liblinear')\n",
    "classifier.fit(X_train_, y_train)\n",
    "y_pred = classifier.predict(X_test_)"
   ]
  },
  {
   "cell_type": "code",
   "execution_count": 239,
   "metadata": {},
   "outputs": [
    {
     "name": "stdout",
     "output_type": "stream",
     "text": [
      "Confusion Matrix below:\n",
      "[[22 26]\n",
      " [17 34]]\n",
      "\n",
      "Accuracy: 56.57%\n",
      "\n",
      "              precision    recall  f1-score   support\n",
      "\n",
      "       False       0.56      0.46      0.51        48\n",
      "        True       0.57      0.67      0.61        51\n",
      "\n",
      "    accuracy                           0.57        99\n",
      "   macro avg       0.57      0.56      0.56        99\n",
      "weighted avg       0.57      0.57      0.56        99\n",
      "\n"
     ]
    }
   ],
   "source": [
    "from sklearn.metrics import confusion_matrix\n",
    "from sklearn.metrics import accuracy_score\n",
    "print(\"Confusion Matrix below:\")\n",
    "confusion_matrix = confusion_matrix(y_test, y_pred)\n",
    "print(confusion_matrix)\n",
    "print()\n",
    "accuracy_logistic = accuracy_score(y_test, y_pred)* 100.0\n",
    "print(\"Accuracy: %.2f%%\" % (accuracy_logistic))\n",
    "print()\n",
    "from sklearn.metrics import classification_report\n",
    "print(classification_report(y_test, y_pred))\n"
   ]
  },
  {
   "cell_type": "markdown",
   "metadata": {},
   "source": [
    "### Model 2 : SVM"
   ]
  },
  {
   "cell_type": "code",
   "execution_count": 179,
   "metadata": {},
   "outputs": [
    {
     "name": "stdout",
     "output_type": "stream",
     "text": [
      "SVC(kernel='linear')\n",
      "Training Rsquare:  0.9949494949494949\n"
     ]
    }
   ],
   "source": [
    "## Check accuracy with SVM\n",
    "from sklearn.svm import SVC\n",
    "modelsvc = SVC(kernel='linear').fit(X_train_, y_train)\n",
    "print(modelsvc)\n",
    "predict_svc=modelsvc.predict(X_test_)"
   ]
  },
  {
   "cell_type": "code",
   "execution_count": 238,
   "metadata": {},
   "outputs": [
    {
     "name": "stdout",
     "output_type": "stream",
     "text": [
      "Confusion Matrix below:\n",
      "[[22 26]\n",
      " [19 32]]\n",
      "\n",
      "Accuracy: 54.55%\n",
      "\n",
      "              precision    recall  f1-score   support\n",
      "\n",
      "       False       0.54      0.46      0.49        48\n",
      "        True       0.55      0.63      0.59        51\n",
      "\n",
      "    accuracy                           0.55        99\n",
      "   macro avg       0.54      0.54      0.54        99\n",
      "weighted avg       0.54      0.55      0.54        99\n",
      "\n"
     ]
    }
   ],
   "source": [
    "from sklearn.metrics import confusion_matrix\n",
    "from sklearn.metrics import accuracy_score\n",
    "print(\"Confusion Matrix below:\")\n",
    "confusion_matrix_svc = confusion_matrix(y_test, predict_svc)\n",
    "print(confusion_matrix_svc)\n",
    "print()\n",
    "from sklearn.metrics import accuracy_score\n",
    "accuracy_svm = accuracy_score(y_test, predict_svc) * 100.0\n",
    "print(\"Accuracy: %.2f%%\" % (accuracy_svm ))\n",
    "print()\n",
    "print(classification_report(y_test, predict_svc))"
   ]
  },
  {
   "cell_type": "markdown",
   "metadata": {},
   "source": [
    "### Model 3 : XBG"
   ]
  },
  {
   "cell_type": "code",
   "execution_count": 181,
   "metadata": {},
   "outputs": [
    {
     "name": "stdout",
     "output_type": "stream",
     "text": [
      "XGBClassifier(base_score=0.5, booster='gbtree', colsample_bylevel=1,\n",
      "              colsample_bynode=1, colsample_bytree=1, gamma=0, gpu_id=-1,\n",
      "              importance_type='gain', interaction_constraints='',\n",
      "              learning_rate=0.300000012, max_delta_step=0, max_depth=6,\n",
      "              min_child_weight=1, missing=nan, monotone_constraints='()',\n",
      "              n_estimators=100, n_jobs=0, num_parallel_tree=1, random_state=0,\n",
      "              reg_alpha=0, reg_lambda=1, scale_pos_weight=1, subsample=1,\n",
      "              tree_method='exact', validate_parameters=1, verbosity=None)\n"
     ]
    }
   ],
   "source": [
    "## Check accuracy with XGB\n",
    "#!pip install xgboost\n",
    "import xgboost\n",
    "from xgboost import XGBClassifier\n",
    "model_xgb = XGBClassifier()\n",
    "model_xgb.fit(X_train_, y_train)\n",
    "print(model_xgb)\n",
    "# make predictions for test data\n",
    "y_pred_xgb = model_xgb.predict(X_test_)"
   ]
  },
  {
   "cell_type": "code",
   "execution_count": 236,
   "metadata": {},
   "outputs": [
    {
     "name": "stdout",
     "output_type": "stream",
     "text": [
      "Accuracy: 55.56%\n"
     ]
    },
    {
     "data": {
      "text/plain": [
       "array([[27, 21],\n",
       "       [23, 28]], dtype=int64)"
      ]
     },
     "execution_count": 236,
     "metadata": {},
     "output_type": "execute_result"
    }
   ],
   "source": [
    "# evaluate predictions\n",
    "from sklearn.metrics import accuracy_score\n",
    "accuracy_xgb = accuracy_score(y_test, y_pred_xgb)* 100.0\n",
    "print(\"Accuracy: %.2f%%\" % (accuracy_xgb ))\n",
    "from sklearn.metrics import confusion_matrix\n",
    "confusion_matrix(y_test, y_pred_xgb)"
   ]
  },
  {
   "cell_type": "markdown",
   "metadata": {},
   "source": [
    "***As the data is small with less data for the model to train on, the accuracy can be noted to be almost same on all the classification models used to predict the target vaiable. However, the logistic regression model gives the highest accuracy amongst the other classification models with 56.57%, while SVM has a 55.55% accuracy and XGB classifier has 55.56% accuracy.***"
   ]
  },
  {
   "cell_type": "code",
   "execution_count": 241,
   "metadata": {},
   "outputs": [
    {
     "data": {
      "text/html": [
       "<div>\n",
       "<style scoped>\n",
       "    .dataframe tbody tr th:only-of-type {\n",
       "        vertical-align: middle;\n",
       "    }\n",
       "\n",
       "    .dataframe tbody tr th {\n",
       "        vertical-align: top;\n",
       "    }\n",
       "\n",
       "    .dataframe thead th {\n",
       "        text-align: right;\n",
       "    }\n",
       "</style>\n",
       "<table border=\"1\" class=\"dataframe\">\n",
       "  <thead>\n",
       "    <tr style=\"text-align: right;\">\n",
       "      <th></th>\n",
       "      <th>Accuracy</th>\n",
       "    </tr>\n",
       "  </thead>\n",
       "  <tbody>\n",
       "    <tr>\n",
       "      <th>Logistic Regression</th>\n",
       "      <td>56.565657</td>\n",
       "    </tr>\n",
       "    <tr>\n",
       "      <th>SVM</th>\n",
       "      <td>54.545455</td>\n",
       "    </tr>\n",
       "    <tr>\n",
       "      <th>XGB</th>\n",
       "      <td>55.555556</td>\n",
       "    </tr>\n",
       "  </tbody>\n",
       "</table>\n",
       "</div>"
      ],
      "text/plain": [
       "                      Accuracy\n",
       "Logistic Regression  56.565657\n",
       "SVM                  54.545455\n",
       "XGB                  55.555556"
      ]
     },
     "execution_count": 241,
     "metadata": {},
     "output_type": "execute_result"
    }
   ],
   "source": [
    "#Comparing all three accuracies\n",
    "comparision_table = pd.DataFrame({'Accuracy': [accuracy_logistic,accuracy_svm,accuracy_xgb]},index=['Logistic Regression','SVM','XGB'])\n",
    "comparision_table"
   ]
  }
 ],
 "metadata": {
  "celltoolbar": "Create Assignment",
  "kernelspec": {
   "display_name": "Python 3",
   "language": "python",
   "name": "python3"
  },
  "language_info": {
   "codemirror_mode": {
    "name": "ipython",
    "version": 3
   },
   "file_extension": ".py",
   "mimetype": "text/x-python",
   "name": "python",
   "nbconvert_exporter": "python",
   "pygments_lexer": "ipython3",
   "version": "3.7.6"
  }
 },
 "nbformat": 4,
 "nbformat_minor": 2
}
